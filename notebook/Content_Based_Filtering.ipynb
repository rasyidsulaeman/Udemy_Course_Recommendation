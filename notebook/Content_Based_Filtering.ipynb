{
 "cells": [
  {
   "cell_type": "code",
   "execution_count": 1,
   "id": "5adb52af-59e7-49ac-a23d-563b528a6acc",
   "metadata": {},
   "outputs": [],
   "source": [
    "import pandas as pd \n",
    "\n",
    "from sklearn.metrics.pairwise import cosine_similarity\n",
    "from sklearn.feature_extraction.text import TfidfVectorizer\n",
    "from sklearn.metrics.pairwise import cosine_similarity"
   ]
  },
  {
   "cell_type": "code",
   "execution_count": 2,
   "id": "fd75e4de-2c9e-4e8f-9cf8-8ba9b3a79680",
   "metadata": {},
   "outputs": [],
   "source": [
    "df = pd.read_csv('../dataset/Udemy_Cleaned.csv')"
   ]
  },
  {
   "cell_type": "code",
   "execution_count": 3,
   "id": "cb96fcd0-54d1-4cee-81e2-7ace1bd17fa0",
   "metadata": {},
   "outputs": [
    {
     "data": {
      "text/html": [
       "<div>\n",
       "<style scoped>\n",
       "    .dataframe tbody tr th:only-of-type {\n",
       "        vertical-align: middle;\n",
       "    }\n",
       "\n",
       "    .dataframe tbody tr th {\n",
       "        vertical-align: top;\n",
       "    }\n",
       "\n",
       "    .dataframe thead th {\n",
       "        text-align: right;\n",
       "    }\n",
       "</style>\n",
       "<table border=\"1\" class=\"dataframe\">\n",
       "  <thead>\n",
       "    <tr style=\"text-align: right;\">\n",
       "      <th></th>\n",
       "      <th>id</th>\n",
       "      <th>course_id</th>\n",
       "      <th>rate</th>\n",
       "      <th>date</th>\n",
       "      <th>display_name</th>\n",
       "      <th>comment</th>\n",
       "      <th>title</th>\n",
       "      <th>is_paid</th>\n",
       "      <th>price</th>\n",
       "      <th>headline</th>\n",
       "      <th>...</th>\n",
       "      <th>published_time</th>\n",
       "      <th>last_update_date</th>\n",
       "      <th>category</th>\n",
       "      <th>subcategory</th>\n",
       "      <th>topic</th>\n",
       "      <th>language</th>\n",
       "      <th>course_url</th>\n",
       "      <th>instructor_name</th>\n",
       "      <th>instructor_url</th>\n",
       "      <th>image</th>\n",
       "    </tr>\n",
       "  </thead>\n",
       "  <tbody>\n",
       "    <tr>\n",
       "      <th>0</th>\n",
       "      <td>9388140</td>\n",
       "      <td>625204</td>\n",
       "      <td>5.0</td>\n",
       "      <td>2017-09-08T02:15:37-07:00</td>\n",
       "      <td>John Douglas</td>\n",
       "      <td>examples are well thought through, the lessons...</td>\n",
       "      <td>The Web Developer Bootcamp 2022</td>\n",
       "      <td>True</td>\n",
       "      <td>199.99</td>\n",
       "      <td>COMPLETELY REDONE - The only course you need t...</td>\n",
       "      <td>...</td>\n",
       "      <td>2015-11-02 21:13:27+00:00</td>\n",
       "      <td>2022-07-01</td>\n",
       "      <td>Development</td>\n",
       "      <td>Web Development</td>\n",
       "      <td>Web Development</td>\n",
       "      <td>English</td>\n",
       "      <td>/course/the-web-developer-bootcamp/</td>\n",
       "      <td>Colt Steele</td>\n",
       "      <td>/user/coltsteele/</td>\n",
       "      <td>https://img-c.udemycdn.com/course/750x422/6252...</td>\n",
       "    </tr>\n",
       "    <tr>\n",
       "      <th>1</th>\n",
       "      <td>125232566</td>\n",
       "      <td>821278</td>\n",
       "      <td>4.0</td>\n",
       "      <td>2022-10-04T01:40:55-07:00</td>\n",
       "      <td>Tanya</td>\n",
       "      <td>Helps in increasing knowledge and run through ...</td>\n",
       "      <td>INTERVIEW TRAINING: Ask Better Questions, Hire...</td>\n",
       "      <td>True</td>\n",
       "      <td>19.99</td>\n",
       "      <td>If you want to improve your hiring accuracy or...</td>\n",
       "      <td>...</td>\n",
       "      <td>2016-04-21 15:00:43+00:00</td>\n",
       "      <td>2017-01-31</td>\n",
       "      <td>Business</td>\n",
       "      <td>Management</td>\n",
       "      <td>Interviewing Skills</td>\n",
       "      <td>English</td>\n",
       "      <td>/course/advanced-interviewer-training/</td>\n",
       "      <td>James Colino</td>\n",
       "      <td>/user/james-colino/</td>\n",
       "      <td>https://img-b.udemycdn.com/course/750x422/8212...</td>\n",
       "    </tr>\n",
       "    <tr>\n",
       "      <th>2</th>\n",
       "      <td>57899017</td>\n",
       "      <td>567828</td>\n",
       "      <td>5.0</td>\n",
       "      <td>2020-06-09T05:51:08-07:00</td>\n",
       "      <td>Rohan</td>\n",
       "      <td>Yes. I don't feel overwhelmed about learning h...</td>\n",
       "      <td>2022 Complete Python Bootcamp From Zero to Her...</td>\n",
       "      <td>True</td>\n",
       "      <td>199.99</td>\n",
       "      <td>Learn Python like a Professional  Start from t...</td>\n",
       "      <td>...</td>\n",
       "      <td>2015-10-12 21:42:53+00:00</td>\n",
       "      <td>2021-03-14</td>\n",
       "      <td>Development</td>\n",
       "      <td>Programming Languages</td>\n",
       "      <td>Python</td>\n",
       "      <td>English</td>\n",
       "      <td>/course/complete-python-bootcamp/</td>\n",
       "      <td>Jose Portilla</td>\n",
       "      <td>/user/joseportilla/</td>\n",
       "      <td>https://img-c.udemycdn.com/course/750x422/5678...</td>\n",
       "    </tr>\n",
       "    <tr>\n",
       "      <th>3</th>\n",
       "      <td>43107550</td>\n",
       "      <td>1352468</td>\n",
       "      <td>4.0</td>\n",
       "      <td>2020-01-06T06:01:41-08:00</td>\n",
       "      <td>Abhishek</td>\n",
       "      <td>Overall course was good except last two lectur...</td>\n",
       "      <td>Master Microservices with Spring Boot and Spri...</td>\n",
       "      <td>True</td>\n",
       "      <td>199.99</td>\n",
       "      <td>Java Spring Boot Microservices 5-in-1 - Spring...</td>\n",
       "      <td>...</td>\n",
       "      <td>2017-09-18 23:32:14+00:00</td>\n",
       "      <td>2022-10-03</td>\n",
       "      <td>Development</td>\n",
       "      <td>Web Development</td>\n",
       "      <td>Microservices</td>\n",
       "      <td>English</td>\n",
       "      <td>/course/microservices-with-spring-boot-and-spr...</td>\n",
       "      <td>in28Minutes Official</td>\n",
       "      <td>/user/in28minutes/</td>\n",
       "      <td>https://img-c.udemycdn.com/course/750x422/1352...</td>\n",
       "    </tr>\n",
       "    <tr>\n",
       "      <th>4</th>\n",
       "      <td>23581421</td>\n",
       "      <td>1915496</td>\n",
       "      <td>5.0</td>\n",
       "      <td>2018-11-25T19:35:03-08:00</td>\n",
       "      <td>Bryan T</td>\n",
       "      <td>I love the speech delivery speed and articulat...</td>\n",
       "      <td>Facebook Marketing -  Build Facebook Messenger...</td>\n",
       "      <td>True</td>\n",
       "      <td>199.99</td>\n",
       "      <td>Facebook marketing &amp; Facebook ads: Design, dev...</td>\n",
       "      <td>...</td>\n",
       "      <td>2018-09-18 18:14:25+00:00</td>\n",
       "      <td>2019-06-05</td>\n",
       "      <td>Marketing</td>\n",
       "      <td>Digital Marketing</td>\n",
       "      <td>Facebook Marketing</td>\n",
       "      <td>English</td>\n",
       "      <td>/course/facebook-messenger-chatbot-marketing-t...</td>\n",
       "      <td>Isaac Rudansky</td>\n",
       "      <td>/user/isaac-rudansky/</td>\n",
       "      <td>https://img-c.udemycdn.com/course/750x422/1915...</td>\n",
       "    </tr>\n",
       "  </tbody>\n",
       "</table>\n",
       "<p>5 rows × 26 columns</p>\n",
       "</div>"
      ],
      "text/plain": [
       "          id  course_id  rate                       date  display_name  \\\n",
       "0    9388140     625204   5.0  2017-09-08T02:15:37-07:00  John Douglas   \n",
       "1  125232566     821278   4.0  2022-10-04T01:40:55-07:00         Tanya   \n",
       "2   57899017     567828   5.0  2020-06-09T05:51:08-07:00         Rohan   \n",
       "3   43107550    1352468   4.0  2020-01-06T06:01:41-08:00      Abhishek   \n",
       "4   23581421    1915496   5.0  2018-11-25T19:35:03-08:00       Bryan T   \n",
       "\n",
       "                                             comment  \\\n",
       "0  examples are well thought through, the lessons...   \n",
       "1  Helps in increasing knowledge and run through ...   \n",
       "2  Yes. I don't feel overwhelmed about learning h...   \n",
       "3  Overall course was good except last two lectur...   \n",
       "4  I love the speech delivery speed and articulat...   \n",
       "\n",
       "                                               title  is_paid   price  \\\n",
       "0                    The Web Developer Bootcamp 2022     True  199.99   \n",
       "1  INTERVIEW TRAINING: Ask Better Questions, Hire...     True   19.99   \n",
       "2  2022 Complete Python Bootcamp From Zero to Her...     True  199.99   \n",
       "3  Master Microservices with Spring Boot and Spri...     True  199.99   \n",
       "4  Facebook Marketing -  Build Facebook Messenger...     True  199.99   \n",
       "\n",
       "                                            headline  ...  \\\n",
       "0  COMPLETELY REDONE - The only course you need t...  ...   \n",
       "1  If you want to improve your hiring accuracy or...  ...   \n",
       "2  Learn Python like a Professional  Start from t...  ...   \n",
       "3  Java Spring Boot Microservices 5-in-1 - Spring...  ...   \n",
       "4  Facebook marketing & Facebook ads: Design, dev...  ...   \n",
       "\n",
       "              published_time  last_update_date     category  \\\n",
       "0  2015-11-02 21:13:27+00:00        2022-07-01  Development   \n",
       "1  2016-04-21 15:00:43+00:00        2017-01-31     Business   \n",
       "2  2015-10-12 21:42:53+00:00        2021-03-14  Development   \n",
       "3  2017-09-18 23:32:14+00:00        2022-10-03  Development   \n",
       "4  2018-09-18 18:14:25+00:00        2019-06-05    Marketing   \n",
       "\n",
       "             subcategory                topic  language  \\\n",
       "0        Web Development      Web Development   English   \n",
       "1             Management  Interviewing Skills   English   \n",
       "2  Programming Languages               Python   English   \n",
       "3        Web Development        Microservices   English   \n",
       "4      Digital Marketing   Facebook Marketing   English   \n",
       "\n",
       "                                          course_url       instructor_name  \\\n",
       "0                /course/the-web-developer-bootcamp/           Colt Steele   \n",
       "1             /course/advanced-interviewer-training/          James Colino   \n",
       "2                  /course/complete-python-bootcamp/         Jose Portilla   \n",
       "3  /course/microservices-with-spring-boot-and-spr...  in28Minutes Official   \n",
       "4  /course/facebook-messenger-chatbot-marketing-t...        Isaac Rudansky   \n",
       "\n",
       "          instructor_url                                              image  \n",
       "0      /user/coltsteele/  https://img-c.udemycdn.com/course/750x422/6252...  \n",
       "1    /user/james-colino/  https://img-b.udemycdn.com/course/750x422/8212...  \n",
       "2    /user/joseportilla/  https://img-c.udemycdn.com/course/750x422/5678...  \n",
       "3     /user/in28minutes/  https://img-c.udemycdn.com/course/750x422/1352...  \n",
       "4  /user/isaac-rudansky/  https://img-c.udemycdn.com/course/750x422/1915...  \n",
       "\n",
       "[5 rows x 26 columns]"
      ]
     },
     "execution_count": 3,
     "metadata": {},
     "output_type": "execute_result"
    }
   ],
   "source": [
    "df.head()"
   ]
  },
  {
   "cell_type": "code",
   "execution_count": 4,
   "id": "429058aa-80a6-4f13-b8fa-6aa3f067ebf3",
   "metadata": {},
   "outputs": [
    {
     "name": "stdout",
     "output_type": "stream",
     "text": [
      "<class 'pandas.core.frame.DataFrame'>\n",
      "RangeIndex: 263591 entries, 0 to 263590\n",
      "Data columns (total 26 columns):\n",
      " #   Column              Non-Null Count   Dtype  \n",
      "---  ------              --------------   -----  \n",
      " 0   id                  263591 non-null  int64  \n",
      " 1   course_id           263591 non-null  int64  \n",
      " 2   rate                263591 non-null  float64\n",
      " 3   date                263591 non-null  object \n",
      " 4   display_name        263591 non-null  object \n",
      " 5   comment             263591 non-null  object \n",
      " 6   title               263591 non-null  object \n",
      " 7   is_paid             263591 non-null  bool   \n",
      " 8   price               263591 non-null  float64\n",
      " 9   headline            263591 non-null  object \n",
      " 10  num_subscribers     263591 non-null  int64  \n",
      " 11  avg_rating          263591 non-null  float64\n",
      " 12  num_reviews         263591 non-null  int64  \n",
      " 13  num_comments        263591 non-null  int64  \n",
      " 14  num_lectures        263591 non-null  int64  \n",
      " 15  content_length_min  263591 non-null  int64  \n",
      " 16  published_time      263591 non-null  object \n",
      " 17  last_update_date    263591 non-null  object \n",
      " 18  category            263591 non-null  object \n",
      " 19  subcategory         263591 non-null  object \n",
      " 20  topic               263591 non-null  object \n",
      " 21  language            263591 non-null  object \n",
      " 22  course_url          263591 non-null  object \n",
      " 23  instructor_name     263591 non-null  object \n",
      " 24  instructor_url      263591 non-null  object \n",
      " 25  image               263591 non-null  object \n",
      "dtypes: bool(1), float64(3), int64(7), object(15)\n",
      "memory usage: 50.5+ MB\n"
     ]
    }
   ],
   "source": [
    "df.info()"
   ]
  },
  {
   "cell_type": "code",
   "execution_count": 5,
   "id": "4b31c2b3-bc24-4d8a-84f7-52c2b43bf1f9",
   "metadata": {},
   "outputs": [],
   "source": [
    "# get sample data; take 5%\n",
    "df = df.sample(frac=0.5)"
   ]
  },
  {
   "cell_type": "code",
   "execution_count": 6,
   "id": "9aaf0665-0ade-41b0-96b1-d37933f44563",
   "metadata": {},
   "outputs": [
    {
     "name": "stdout",
     "output_type": "stream",
     "text": [
      "<class 'pandas.core.frame.DataFrame'>\n",
      "Index: 131796 entries, 178249 to 258770\n",
      "Data columns (total 26 columns):\n",
      " #   Column              Non-Null Count   Dtype  \n",
      "---  ------              --------------   -----  \n",
      " 0   id                  131796 non-null  int64  \n",
      " 1   course_id           131796 non-null  int64  \n",
      " 2   rate                131796 non-null  float64\n",
      " 3   date                131796 non-null  object \n",
      " 4   display_name        131796 non-null  object \n",
      " 5   comment             131796 non-null  object \n",
      " 6   title               131796 non-null  object \n",
      " 7   is_paid             131796 non-null  bool   \n",
      " 8   price               131796 non-null  float64\n",
      " 9   headline            131796 non-null  object \n",
      " 10  num_subscribers     131796 non-null  int64  \n",
      " 11  avg_rating          131796 non-null  float64\n",
      " 12  num_reviews         131796 non-null  int64  \n",
      " 13  num_comments        131796 non-null  int64  \n",
      " 14  num_lectures        131796 non-null  int64  \n",
      " 15  content_length_min  131796 non-null  int64  \n",
      " 16  published_time      131796 non-null  object \n",
      " 17  last_update_date    131796 non-null  object \n",
      " 18  category            131796 non-null  object \n",
      " 19  subcategory         131796 non-null  object \n",
      " 20  topic               131796 non-null  object \n",
      " 21  language            131796 non-null  object \n",
      " 22  course_url          131796 non-null  object \n",
      " 23  instructor_name     131796 non-null  object \n",
      " 24  instructor_url      131796 non-null  object \n",
      " 25  image               131796 non-null  object \n",
      "dtypes: bool(1), float64(3), int64(7), object(15)\n",
      "memory usage: 26.3+ MB\n"
     ]
    }
   ],
   "source": [
    "df.info()"
   ]
  },
  {
   "cell_type": "code",
   "execution_count": 7,
   "id": "839e06fe-5a9c-4c77-806c-afd33dd36cf9",
   "metadata": {},
   "outputs": [],
   "source": [
    "unique_df = df.drop_duplicates(subset='title')\n",
    "unique_df = unique_df[['course_id', 'title', 'category', 'subcategory', 'topic']]"
   ]
  },
  {
   "cell_type": "code",
   "execution_count": 8,
   "id": "51c1e2b8-72b6-4510-8767-deea17a738bf",
   "metadata": {},
   "outputs": [
    {
     "data": {
      "text/html": [
       "<div>\n",
       "<style scoped>\n",
       "    .dataframe tbody tr th:only-of-type {\n",
       "        vertical-align: middle;\n",
       "    }\n",
       "\n",
       "    .dataframe tbody tr th {\n",
       "        vertical-align: top;\n",
       "    }\n",
       "\n",
       "    .dataframe thead th {\n",
       "        text-align: right;\n",
       "    }\n",
       "</style>\n",
       "<table border=\"1\" class=\"dataframe\">\n",
       "  <thead>\n",
       "    <tr style=\"text-align: right;\">\n",
       "      <th></th>\n",
       "      <th>course_id</th>\n",
       "      <th>title</th>\n",
       "      <th>category</th>\n",
       "      <th>subcategory</th>\n",
       "      <th>topic</th>\n",
       "    </tr>\n",
       "  </thead>\n",
       "  <tbody>\n",
       "    <tr>\n",
       "      <th>178249</th>\n",
       "      <td>2752048</td>\n",
       "      <td>Data Warehouse Fundamentals for Beginners</td>\n",
       "      <td>Business</td>\n",
       "      <td>Business Analytics &amp; Intelligence</td>\n",
       "      <td>Data Warehouse</td>\n",
       "    </tr>\n",
       "    <tr>\n",
       "      <th>217500</th>\n",
       "      <td>201966</td>\n",
       "      <td>How to Be Psychic - Psychic Development for Be...</td>\n",
       "      <td>Lifestyle</td>\n",
       "      <td>Esoteric Practices</td>\n",
       "      <td>Psychic</td>\n",
       "    </tr>\n",
       "    <tr>\n",
       "      <th>60593</th>\n",
       "      <td>203556</td>\n",
       "      <td>SQL for NEWBS: Weekender Crash Course</td>\n",
       "      <td>Business</td>\n",
       "      <td>Business Analytics &amp; Intelligence</td>\n",
       "      <td>SQL</td>\n",
       "    </tr>\n",
       "    <tr>\n",
       "      <th>256813</th>\n",
       "      <td>3054438</td>\n",
       "      <td>All-in-One:Machine Learning,DL,NLP,AWS Deply [...</td>\n",
       "      <td>IT &amp; Software</td>\n",
       "      <td>Other IT &amp; Software</td>\n",
       "      <td>Machine Learning</td>\n",
       "    </tr>\n",
       "    <tr>\n",
       "      <th>178783</th>\n",
       "      <td>12855</td>\n",
       "      <td>Building Custom WordPress Sites from Scratch</td>\n",
       "      <td>Design</td>\n",
       "      <td>Web Design</td>\n",
       "      <td>WordPress</td>\n",
       "    </tr>\n",
       "  </tbody>\n",
       "</table>\n",
       "</div>"
      ],
      "text/plain": [
       "        course_id                                              title  \\\n",
       "178249    2752048          Data Warehouse Fundamentals for Beginners   \n",
       "217500     201966  How to Be Psychic - Psychic Development for Be...   \n",
       "60593      203556              SQL for NEWBS: Weekender Crash Course   \n",
       "256813    3054438  All-in-One:Machine Learning,DL,NLP,AWS Deply [...   \n",
       "178783      12855       Building Custom WordPress Sites from Scratch   \n",
       "\n",
       "             category                        subcategory             topic  \n",
       "178249       Business  Business Analytics & Intelligence    Data Warehouse  \n",
       "217500      Lifestyle                 Esoteric Practices           Psychic  \n",
       "60593        Business  Business Analytics & Intelligence               SQL  \n",
       "256813  IT & Software                Other IT & Software  Machine Learning  \n",
       "178783         Design                         Web Design         WordPress  "
      ]
     },
     "execution_count": 8,
     "metadata": {},
     "output_type": "execute_result"
    }
   ],
   "source": [
    "unique_df.head()"
   ]
  },
  {
   "cell_type": "code",
   "execution_count": 9,
   "id": "5d004519-1c84-4a5d-8411-750197f247bb",
   "metadata": {},
   "outputs": [],
   "source": [
    "# convert all strings to lower case and remove the spaces\n",
    "def clean_feature(x):\n",
    "    # apply for string items, if not string return an empty string\n",
    "    if isinstance(x, str):\n",
    "        return str.lower(x.replace(\" \", \"\"))\n",
    "    else:\n",
    "        return ''\n",
    "\n",
    "# apply clean function to the features\n",
    "features = ['category', 'subcategory', 'topic']\n",
    "for feature in features:\n",
    "    unique_df[feature] = unique_df[feature].apply(clean_feature)"
   ]
  },
  {
   "cell_type": "code",
   "execution_count": 10,
   "id": "71d3a731-4608-48b7-a10a-6906575984cd",
   "metadata": {},
   "outputs": [],
   "source": [
    "#Concat features and add seperate column to the data frame\n",
    "def add_feature_col(row):\n",
    "    return f\"{row['category']} {row['subcategory']} {row['topic']}\"\n",
    "unique_df['features'] = unique_df.apply(add_feature_col, axis=1)"
   ]
  },
  {
   "cell_type": "code",
   "execution_count": 11,
   "id": "cec6b1c6-c51c-46fe-9051-c0f6a28cc3ab",
   "metadata": {},
   "outputs": [],
   "source": [
    "# Create a TfidfVectorizer object to transform the courses subcategory into a Tf-idf representation\n",
    "def compute_similarity(df):\n",
    "    sub = df['subcategory'].str.split('|').explode()\n",
    "    \n",
    "    tfidf = TfidfVectorizer(ngram_range=(1,2))\n",
    "    tfidf_matrix = tfidf.fit_transform(sub)\n",
    "    \n",
    "    similarity = cosine_similarity(tfidf_matrix)\n",
    "    similarity_df = pd.DataFrame(similarity, index=df['title'], columns=df['title'])\n",
    "    return similarity_df"
   ]
  },
  {
   "cell_type": "code",
   "execution_count": 12,
   "id": "2295178a-9bec-42d4-bda3-bdd06b9b8786",
   "metadata": {},
   "outputs": [],
   "source": [
    "similarity_df = compute_similarity(unique_df)"
   ]
  },
  {
   "cell_type": "code",
   "execution_count": 13,
   "id": "fd487aad-6353-4668-af33-2a482d684e83",
   "metadata": {},
   "outputs": [],
   "source": [
    "course = 'Python & Machine Learning for Financial Analysis'\n",
    "\n",
    "def get_top_n(sim, title):\n",
    "    \n",
    "    course_index = sim.index.get_loc(title)\n",
    "    \n",
    "    top_10 = sim.iloc[course_index].sort_values(ascending=False)[1:11]\n",
    "    return top_10.index.tolist()"
   ]
  },
  {
   "cell_type": "code",
   "execution_count": 14,
   "id": "e7bb9904-a33f-4458-98c0-291c4aabeeff",
   "metadata": {},
   "outputs": [
    {
     "data": {
      "text/plain": [
       "['Apache Spark Streaming 3 with Scala | Rock the JVM',\n",
       " 'Deep Learning: Visual Exploration',\n",
       " 'Natural Language Processing with Deep Learning in Python',\n",
       " 'Intro to Big Data, Data Science and Artificial Intelligence',\n",
       " 'Artificial Intelligence III - Deep Learning in Java',\n",
       " 'R Programming – Hacks and Automation',\n",
       " 'Automated Machine Learning for Beginners (Google & Apple)',\n",
       " 'Modern Natural Language Processing in Python',\n",
       " 'Species Distribution Models with GIS & Machine Learning in R',\n",
       " 'Machine Learning 2022: Complete Maths for Machine Learning']"
      ]
     },
     "execution_count": 14,
     "metadata": {},
     "output_type": "execute_result"
    }
   ],
   "source": [
    "get_top_n(similarity_df, course)"
   ]
  },
  {
   "cell_type": "code",
   "execution_count": 15,
   "id": "60d0045e-3a1e-412b-a766-9ff415802d61",
   "metadata": {},
   "outputs": [],
   "source": [
    "titles = unique_df['title'].tolist()\n",
    "subcategory = unique_df['subcategory'].str.split(\"|\").tolist()"
   ]
  },
  {
   "cell_type": "code",
   "execution_count": 16,
   "id": "bf114f73-04c1-4f26-8cdc-6f406afb0fde",
   "metadata": {},
   "outputs": [],
   "source": [
    "def create_bow(subcategory):\n",
    "    bow = {}\n",
    "    for sub in subcategory:\n",
    "        bow[sub] = 1\n",
    "    return bow"
   ]
  },
  {
   "cell_type": "code",
   "execution_count": 17,
   "id": "ad3e4b5c-913c-4e77-98d0-1965f9196729",
   "metadata": {},
   "outputs": [],
   "source": [
    "bags_of_words = [create_bow(sub) for sub in subcategory]"
   ]
  },
  {
   "cell_type": "code",
   "execution_count": 18,
   "id": "959acf2a-04ad-42dc-be2d-64d7c3df6e19",
   "metadata": {},
   "outputs": [],
   "source": [
    "sub_df = pd.DataFrame(bags_of_words, index=titles).fillna(0)"
   ]
  },
  {
   "cell_type": "code",
   "execution_count": 19,
   "id": "92077afe-5eda-424c-8718-c2b97932a860",
   "metadata": {},
   "outputs": [],
   "source": [
    "similarity = cosine_similarity(sub_df)"
   ]
  },
  {
   "cell_type": "code",
   "execution_count": 20,
   "id": "58390cfc-6a61-490a-bd1b-c289bf0a9ac5",
   "metadata": {},
   "outputs": [],
   "source": [
    "# Create a dataframe with the cosine similarity scores\n",
    "sim = pd.DataFrame(similarity, index=sub_df.index, columns=sub_df.index)"
   ]
  },
  {
   "cell_type": "code",
   "execution_count": 21,
   "id": "4786d174-5200-46cc-bba7-94b865574bf9",
   "metadata": {},
   "outputs": [
    {
     "data": {
      "text/plain": [
       "['Apache Spark Streaming 3 with Scala | Rock the JVM',\n",
       " 'Deep Learning: Visual Exploration',\n",
       " 'Natural Language Processing with Deep Learning in Python',\n",
       " 'Intro to Big Data, Data Science and Artificial Intelligence',\n",
       " 'Artificial Intelligence III - Deep Learning in Java',\n",
       " 'R Programming – Hacks and Automation',\n",
       " 'Automated Machine Learning for Beginners (Google & Apple)',\n",
       " 'Modern Natural Language Processing in Python',\n",
       " 'Species Distribution Models with GIS & Machine Learning in R',\n",
       " 'Machine Learning 2022: Complete Maths for Machine Learning']"
      ]
     },
     "execution_count": 21,
     "metadata": {},
     "output_type": "execute_result"
    }
   ],
   "source": [
    "get_top_n(sim, course)"
   ]
  },
  {
   "cell_type": "code",
   "execution_count": null,
   "id": "49bb7f99-38ea-4bf3-a974-d3038b368b8a",
   "metadata": {},
   "outputs": [],
   "source": []
  }
 ],
 "metadata": {
  "kernelspec": {
   "display_name": "Python 3 (ipykernel)",
   "language": "python",
   "name": "python3"
  },
  "language_info": {
   "codemirror_mode": {
    "name": "ipython",
    "version": 3
   },
   "file_extension": ".py",
   "mimetype": "text/x-python",
   "name": "python",
   "nbconvert_exporter": "python",
   "pygments_lexer": "ipython3",
   "version": "3.11.8"
  }
 },
 "nbformat": 4,
 "nbformat_minor": 5
}
